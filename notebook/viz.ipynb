{
 "cells": [
  {
   "cell_type": "code",
   "execution_count": 1,
   "metadata": {},
   "outputs": [],
   "source": [
    "%load_ext autoreload\n",
    "%autoreload 2"
   ]
  },
  {
   "cell_type": "code",
   "execution_count": 2,
   "metadata": {},
   "outputs": [
    {
     "name": "stdout",
     "output_type": "stream",
     "text": [
      "/Users/xiaoyangsong/Desktop/IOE 691/SGHMC\n"
     ]
    }
   ],
   "source": [
    "%cd .. "
   ]
  },
  {
   "cell_type": "code",
   "execution_count": 10,
   "metadata": {},
   "outputs": [],
   "source": [
    "import os\n",
    "import numpy as np\n",
    "from matplotlib import pyplot as plt\n",
    "from src.model import *\n",
    "\n",
    "dset, name = 'fashion-mnist', 'FashionMNIST'\n",
    "# dset, name = 'mnist', 'MNIST'\n",
    "methods, labels = ['sgd', 'sgd-m', 'sgld', 'sghmc'], ['SGD', 'SGD-M', 'SGLD', 'SGHMC']"
   ]
  },
  {
   "cell_type": "code",
   "execution_count": 15,
   "metadata": {},
   "outputs": [],
   "source": [
    "for method, label in zip(methods, labels):\n",
    "    ckpt_dir = os.path.join('ckpt', dset, method)\n",
    "    err_test = torch.load(os.path.join(ckpt_dir, 'val_err.pt'))\n",
    "    plt.plot(err_test, label=label)\n",
    "plt.legend()\n",
    "plt.xlabel(\"Iterations\")\n",
    "plt.ylabel(\"Test Error\")\n",
    "plt.title(f\"Convergence of test error on {name}\")\n",
    "# plt.show()\n",
    "plt.savefig(f\"figure/cls_{name}.jpg\", dpi=150)\n",
    "plt.close()"
   ]
  },
  {
   "cell_type": "markdown",
   "metadata": {},
   "source": [
    "## Some tests"
   ]
  },
  {
   "cell_type": "code",
   "execution_count": 13,
   "metadata": {},
   "outputs": [],
   "source": [
    "tri_sgld = np.load(os.path.join('ckpt', 'fashion-mnist', 'sgld', 'tri_err.npy'))\n",
    "# # plt.plot(tri_sgld)\n",
    "val_sgld = np.load(os.path.join('ckpt', 'fashion-mnist', 'sgld', 'val_err.npy'))\n",
    "# plt.plot(val_sgld)\n",
    "torch.save(tri_sgld, os.path.join('ckpt', 'fashion-mnist', 'sgld', 'tri_err.pt'))\n",
    "torch.save(val_sgld, os.path.join('ckpt', 'fashion-mnist', 'sgld', 'val_err.pt'))"
   ]
  }
 ],
 "metadata": {
  "kernelspec": {
   "display_name": "Python 3",
   "language": "python",
   "name": "python3"
  },
  "language_info": {
   "codemirror_mode": {
    "name": "ipython",
    "version": 3
   },
   "file_extension": ".py",
   "mimetype": "text/x-python",
   "name": "python",
   "nbconvert_exporter": "python",
   "pygments_lexer": "ipython3",
   "version": "3.9.7"
  }
 },
 "nbformat": 4,
 "nbformat_minor": 2
}
