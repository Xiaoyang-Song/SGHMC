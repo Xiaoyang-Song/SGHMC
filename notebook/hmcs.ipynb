{
 "cells": [
  {
   "cell_type": "code",
   "execution_count": 1,
   "metadata": {},
   "outputs": [],
   "source": [
    "%load_ext autoreload\n",
    "%autoreload 2"
   ]
  },
  {
   "cell_type": "code",
   "execution_count": 4,
   "metadata": {},
   "outputs": [
    {
     "name": "stdout",
     "output_type": "stream",
     "text": [
      "/Users/xiaoyangsong/Desktop/IOE 691/SGHMC\n"
     ]
    }
   ],
   "source": [
    "%cd .. "
   ]
  },
  {
   "cell_type": "code",
   "execution_count": 5,
   "metadata": {},
   "outputs": [],
   "source": [
    "from src.simulate import *\n",
    "import seaborn as sns"
   ]
  },
  {
   "cell_type": "code",
   "execution_count": 129,
   "metadata": {},
   "outputs": [
    {
     "data": {
      "text/plain": [
       "[<matplotlib.lines.Line2D at 0x7ff2d0eff280>]"
      ]
     },
     "execution_count": 129,
     "metadata": {},
     "output_type": "execute_result"
    },
    {
     "data": {
      "image/png": "[encoded data removed]",
      "text/plain": [
       "<Figure size 432x288 with 1 Axes>"
      ]
     },
     "metadata": {
      "needs_background": "light"
     },
     "output_type": "display_data"
    }
   ],
   "source": [
    "n_steps = 100\n",
    "lb, ub = -3, 3\n",
    "x = np.linspace(lb, ub, n_steps)\n",
    "pgt = gt(x)\n",
    "plt.plot(pgt / ((ub - lb) / n_steps))"
   ]
  },
  {
   "cell_type": "code",
   "execution_count": 130,
   "metadata": {},
   "outputs": [],
   "source": [
    "from src.hmc import * \n",
    "n_samples = 80000\n",
    "xt = 0\n",
    "M = 1\n",
    "eps=0.1\n",
    "L=50\n",
    "\n",
    "samples = {}\n",
    "# generate samples\n",
    "# I: Naive HMC without correction\n",
    "correction=False\n",
    "naive_hmc_samples = []\n",
    "for _ in range(n_samples):\n",
    "    xt = naive_hmc(function, grad, M, eps, L, xt, correction)\n",
    "    naive_hmc_samples.append(xt)\n",
    "samples['Standard HMC (no MH)'] = np.array(naive_hmc_samples)\n",
    "\n",
    "# II: Naive HMC with correction\n",
    "correction=True\n",
    "naive_hmcmh_samples = []\n",
    "for _ in range(n_samples):\n",
    "    xt = naive_hmc(function, grad, M, eps, L, xt, correction)\n",
    "    naive_hmcmh_samples.append(xt)\n",
    "samples['Standard HMC (with MH)'] = np.array(naive_hmcmh_samples)\n",
    "\n",
    "# III: Naive SGHMC without correction\n",
    "correction=False\n",
    "naive_sghmc_samples = []\n",
    "for _ in range(n_samples):\n",
    "    xt = naive_hmc(function, grad_hat, M, eps, L, xt, correction)\n",
    "    naive_sghmc_samples.append(xt)\n",
    "samples['Naive stochastic gradient HMC (no MH)'] = np.array(naive_sghmc_samples)\n",
    "\n",
    "# IV: Naive SGHMC with correction\n",
    "correction=True\n",
    "naive_sghmcnh_samples = []\n",
    "for _ in range(n_samples):\n",
    "    xt = naive_hmc(function, grad_hat, M, eps, L, xt, correction)\n",
    "    naive_sghmcnh_samples.append(xt)\n",
    "samples['Naive stochastic gradient HMC (with MH)'] = np.array(naive_sghmcnh_samples)"
   ]
  },
  {
   "cell_type": "code",
   "execution_count": 131,
   "metadata": {},
   "outputs": [],
   "source": [
    "# V: SGHMC\n",
    "V = 4\n",
    "B = 0.5 * V * eps; \n",
    "C = 3\n",
    "\n",
    "sghmc_samples = []\n",
    "for _ in range(n_samples):\n",
    "    xt = sghmc(function, grad_hat, M, eps, L, xt, C, B)\n",
    "    sghmc_samples.append(xt)\n",
    "samples['SGHMC'] = np.array(sghmc_samples)"
   ]
  },
  {
   "cell_type": "code",
   "execution_count": 134,
   "metadata": {},
   "outputs": [],
   "source": [
    "colors = ['blue', 'green', 'red', 'gold', 'purple']\n",
    "colors = dict(zip(samples.keys(), colors))\n",
    "plt.figure(figsize=(8, 6))\n",
    "plt.plot(x, pgt / ((ub - lb) / n_steps), label = 'Ground Truth', color='black')\n",
    "for (key, vals) in samples.items():\n",
    "    # vals, density = np.histogram(vals, bins=n_steps, range=(lb, ub), density=True)\n",
    "    # plt.plot(x, vals, label=key)\n",
    "    sns.kdeplot(data=vals.squeeze(), color=colors[key], label=key)\n",
    "plt.legend()\n",
    "plt.ylim(0, 0.7)\n",
    "plt.xlabel(r'$\\theta$')\n",
    "plt.xticks(list(np.arange(-3, 3.5, 0.5)))\n",
    "# plt.show()\n",
    "plt.savefig('figure/fig1.jpg', dpi=200)\n",
    "plt.close()"
   ]
  },
  {
   "cell_type": "code",
   "execution_count": 135,
   "metadata": {},
   "outputs": [],
   "source": [
    "plt.figure(figsize=(8, 6))\n",
    "plt.plot(x, pgt / ((ub - lb) / n_steps), label = 'Ground Truth', color='black')\n",
    "for (key, vals) in samples.items():\n",
    "    vals, density = np.histogram(vals, bins=n_steps, range=(lb, ub), density=True)\n",
    "    plt.plot(x, vals, label=key, color=colors[key])\n",
    "    # sns.kdeplot(data=vals.squeeze(), color=colors[key], label=key)\n",
    "plt.legend()\n",
    "plt.ylim(0, 0.8)\n",
    "# plt.show()\n",
    "plt.savefig('figure/fig1-discrete.jpg', dpi=200)\n",
    "plt.close()"
   ]
  }
 ],
 "metadata": {
  "kernelspec": {
   "display_name": "Python 3",
   "language": "python",
   "name": "python3"
  },
  "language_info": {
   "codemirror_mode": {
    "name": "ipython",
    "version": 3
   },
   "file_extension": ".py",
   "mimetype": "text/x-python",
   "name": "python",
   "nbconvert_exporter": "python",
   "pygments_lexer": "ipython3",
   "version": "3.9.7"
  }
 },
 "nbformat": 4,
 "nbformat_minor": 2
}
